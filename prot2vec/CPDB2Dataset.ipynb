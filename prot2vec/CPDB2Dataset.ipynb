{
 "cells": [
  {
   "cell_type": "code",
   "execution_count": 1,
   "metadata": {},
   "outputs": [],
   "source": [
    "from IPython.core.interactiveshell import InteractiveShell\n",
    "InteractiveShell.ast_node_interactivity = \"all\" # default: \"last_expr\"\n",
    "import tensorflow as tf\n",
    "from pathlib import Path\n",
    "from datasets.dataset_helper import create_cpdb2_dataset\n",
    "from datasets.vocab import create_lookup_table\n",
    "HOME = str(Path.home())\n",
    "sess = tf.InteractiveSession()"
   ]
  },
  {
   "cell_type": "code",
   "execution_count": 2,
   "metadata": {},
   "outputs": [],
   "source": [
    "# Create the lookup tables\n",
    "aa_table = create_lookup_table(\"aa\")\n",
    "ss_table = create_lookup_table(\"ss\")\n",
    "reverse_aa_table = create_lookup_table(\"aa\", True)\n",
    "reverse_ss_table = create_lookup_table(\"ss\", True)\n",
    "# Initialize the tables\n",
    "tf.tables_initializer().run()"
   ]
  },
  {
   "cell_type": "code",
   "execution_count": 3,
   "metadata": {},
   "outputs": [
    {
     "data": {
      "text/plain": [
       "array([ 0,  9,  0,  0, 15, 20])"
      ]
     },
     "execution_count": 3,
     "metadata": {},
     "output_type": "execute_result"
    },
    {
     "data": {
      "text/plain": [
       "array([7, 7, 0, 2, 3, 0, 5])"
      ]
     },
     "execution_count": 3,
     "metadata": {},
     "output_type": "execute_result"
    },
    {
     "data": {
      "text/plain": [
       "23"
      ]
     },
     "execution_count": 3,
     "metadata": {},
     "output_type": "execute_result"
    },
    {
     "data": {
      "text/plain": [
       "8"
      ]
     },
     "execution_count": 3,
     "metadata": {},
     "output_type": "execute_result"
    },
    {
     "data": {
      "text/plain": [
       "9"
      ]
     },
     "execution_count": 3,
     "metadata": {},
     "output_type": "execute_result"
    }
   ],
   "source": [
    "# Some examples of the table converting strings to integers\n",
    "seq = tf.constant(list(\"ALAASX\"))\n",
    "ss = tf.constant(list(\"UUHEGHT\"))\n",
    "seq_ids = aa_table.lookup(seq).eval()\n",
    "ss_ids = ss_table.lookup(ss).eval()\n",
    "seq_ids\n",
    "ss_ids\n",
    "# Look up special symbols\n",
    "aa_table.lookup(tf.constant(\"EOS\")).eval()\n",
    "ss_table.lookup(tf.constant(\"SOS\")).eval()\n",
    "ss_table.lookup(tf.constant(\"EOS\")).eval()"
   ]
  },
  {
   "cell_type": "code",
   "execution_count": 4,
   "metadata": {},
   "outputs": [],
   "source": [
    "# Set up the hparams that the function is expecting\n",
    "hparams = tf.contrib.training.HParams(\n",
    "    valid_source_file=HOME+\"/data/cpdb2/cpdb2_train_source.txt\",\n",
    "    valid_target_file=HOME+\"/data/cpdb2/cpdb2_train_target.txt\",\n",
    "    batch_size=2,\n",
    "    num_epochs=1,\n",
    "    source_lookup_table=aa_table,\n",
    "    target_lookup_table=ss_table,   \n",
    ")\n",
    "# Get the dataset object, mode EVAL so it doesn't shuffle\n",
    "dataset = create_cpdb2_dataset(hparams, tf.contrib.learn.ModeKeys.EVAL)"
   ]
  },
  {
   "cell_type": "code",
   "execution_count": 5,
   "metadata": {},
   "outputs": [],
   "source": [
    "iterator = dataset.make_initializable_iterator()\n",
    "iterator.initializer.run()"
   ]
  },
  {
   "cell_type": "code",
   "execution_count": 6,
   "metadata": {},
   "outputs": [],
   "source": [
    "batch = iterator.get_next()"
   ]
  },
  {
   "cell_type": "code",
   "execution_count": 7,
   "metadata": {},
   "outputs": [],
   "source": [
    "src_in, tgt_in, tgt_out, src_len, tgt_len = sess.run(batch)"
   ]
  },
  {
   "cell_type": "code",
   "execution_count": 8,
   "metadata": {},
   "outputs": [
    {
     "data": {
      "text/plain": [
       "(2, 516)"
      ]
     },
     "execution_count": 8,
     "metadata": {},
     "output_type": "execute_result"
    },
    {
     "data": {
      "text/plain": [
       "(2, 517)"
      ]
     },
     "execution_count": 8,
     "metadata": {},
     "output_type": "execute_result"
    }
   ],
   "source": [
    "src_in.shape\n",
    "tgt_in.shape"
   ]
  },
  {
   "cell_type": "code",
   "execution_count": 9,
   "metadata": {},
   "outputs": [
    {
     "data": {
      "text/plain": [
       "array([321, 516], dtype=int32)"
      ]
     },
     "execution_count": 9,
     "metadata": {},
     "output_type": "execute_result"
    },
    {
     "data": {
      "text/plain": [
       "array([322, 517], dtype=int32)"
      ]
     },
     "execution_count": 9,
     "metadata": {},
     "output_type": "execute_result"
    }
   ],
   "source": [
    "src_len\n",
    "tgt_len"
   ]
  },
  {
   "cell_type": "code",
   "execution_count": 10,
   "metadata": {},
   "outputs": [
    {
     "data": {
      "text/plain": [
       "array([[16,  8,  5, ...,  0,  0,  0],\n",
       "       [15,  0, 17, ...,  8,  5,  7]])"
      ]
     },
     "execution_count": 10,
     "metadata": {},
     "output_type": "execute_result"
    },
    {
     "data": {
      "text/plain": [
       "array([[8, 7, 7, ..., 0, 0, 0],\n",
       "       [8, 7, 0, ..., 5, 5, 7]])"
      ]
     },
     "execution_count": 10,
     "metadata": {},
     "output_type": "execute_result"
    }
   ],
   "source": [
    "src_in\n",
    "tgt_in"
   ]
  },
  {
   "cell_type": "code",
   "execution_count": null,
   "metadata": {
    "scrolled": true
   },
   "outputs": [],
   "source": [
    "reverse_aa_table.lookup(tf.constant(src_in[0])).eval()\n",
    "reverse_ss_table.lookup(tf.constant(tgt_in[0])).eval()"
   ]
  }
 ],
 "metadata": {
  "kernelspec": {
   "display_name": "Python 3",
   "language": "python",
   "name": "python3"
  },
  "language_info": {
   "codemirror_mode": {
    "name": "ipython",
    "version": 3
   },
   "file_extension": ".py",
   "mimetype": "text/x-python",
   "name": "python",
   "nbconvert_exporter": "python",
   "pygments_lexer": "ipython3",
   "version": "3.6.4"
  }
 },
 "nbformat": 4,
 "nbformat_minor": 2
}
